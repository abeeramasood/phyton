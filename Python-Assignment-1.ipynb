{
 "cells": [
  {
   "cell_type": "markdown",
   "metadata": {},
   "source": [
    " 1: Write a Python program to print the following string in a specific format"
   ]
  },
  {
   "cell_type": "code",
   "execution_count": 2,
   "metadata": {},
   "outputs": [
    {
     "name": "stdout",
     "output_type": "stream",
     "text": [
      "Twinkle ,twinkle ,little star,\n",
      "     How i wonder what you are!\n",
      "Up above the world so high,\n",
      "     Like a diamond in the sky.\n",
      "Twinkle ,twinkle ,little star,\n",
      "     How i wonder what you are\n"
     ]
    }
   ],
   "source": [
    "print('Twinkle ,twinkle ,little star,' '\\n'  '     How i wonder what you are!' '\\n' 'Up above the world so high,' '\\n' '     Like a diamond in the sky.' '\\n' 'Twinkle ,twinkle ,little star,' '\\n' '     How i wonder what you are')"
   ]
  },
  {
   "cell_type": "markdown",
   "metadata": {},
   "source": [
    "2. Write a Python program to get the Python version you are using."
   ]
  },
  {
   "cell_type": "code",
   "execution_count": 3,
   "metadata": {},
   "outputs": [
    {
     "name": "stdout",
     "output_type": "stream",
     "text": [
      "The current using version of python 3.7.3\n"
     ]
    }
   ],
   "source": [
    "from platform import python_version\n",
    "\n",
    "print(\"CURRENT VERSION OF PYTHON IS\",(python_version()))"
   ]
  },
  {
   "cell_type": "markdown",
   "metadata": {},
   "source": [
    " 3. Write a Python program to display the current date and time."
   ]
  },
  {
   "cell_type": "code",
   "execution_count": 4,
   "metadata": {},
   "outputs": [
    {
     "name": "stdout",
     "output_type": "stream",
     "text": [
      "Current date and time : \n",
      "2019-11-05 12:33:31\n"
     ]
    }
   ],
   "source": [
    "import datetime\n",
    "now = datetime.datetime.now()\n",
    "print (\"CURRENT DATE AND TIME IS : \")\n",
    "print (now.strftime(\"%Y-%m-%d %H:%M:%S\"))"
   ]
  },
  {
   "cell_type": "markdown",
   "metadata": {},
   "source": [
    " 4. Write a Python program which accepts the radius of a circle from the user and compute the area. "
   ]
  },
  {
   "cell_type": "code",
   "execution_count": 1,
   "metadata": {},
   "outputs": [
    {
     "name": "stdout",
     "output_type": "stream",
     "text": [
      "ENTER RADIUS OF CIRCLE :3\n",
      "AREA OD CIRCLE IS : 28.27\n"
     ]
    }
   ],
   "source": [
    "import math\n",
    "r = float(input('ENTER RADIUS OF CIRCLE :'))\n",
    "area = math.pi * r * r\n",
    "print(\"AREA OD CIRCLE IS : %.2f\" %area)\n",
    "\n"
   ]
  },
  {
   "cell_type": "markdown",
   "metadata": {},
   "source": [
    " 5. Write a Python program which accepts the user's first and last name and print them in reverse order with a space between them."
   ]
  },
  {
   "cell_type": "code",
   "execution_count": 2,
   "metadata": {},
   "outputs": [
    {
     "name": "stdout",
     "output_type": "stream",
     "text": [
      "ENTER YOUR FIRST NAME HERE :ANUM\n",
      "ENTER YOUR SECOND NAME HERE:IQBAL\n",
      "MUNA LABQI\n"
     ]
    }
   ],
   "source": [
    "First_name = input(\"ENTER YOUR FIRST NAME HERE :\")\n",
    "Second_name = input(\"ENTER YOUR SECOND NAME HERE:\")\n",
    "result = First_name[::-1] + \" \" + Second_name[::-1]\n",
    "print(result)"
   ]
  },
  {
   "cell_type": "markdown",
   "metadata": {},
   "source": [
    "6. Write a python program which takes two inputs from user and print them addition"
   ]
  },
  {
   "cell_type": "code",
   "execution_count": 4,
   "metadata": {},
   "outputs": [
    {
     "name": "stdout",
     "output_type": "stream",
     "text": [
      "ENTER YOUR FIRST VALUE :PYTHON\n",
      "ENTER YOUR SECOND VALUE :LEARNING\n",
      "PYTHONLEARNING\n"
     ]
    }
   ],
   "source": [
    "First_input = input(\"ENTER YOUR FIRST VALUE :\")\n",
    "Second_input = input(\"ENTER YOUR SECOND VALUE :\")\n",
    "output = First_input + Second_input\n",
    "print(output)"
   ]
  },
  {
   "cell_type": "code",
   "execution_count": null,
   "metadata": {},
   "outputs": [],
   "source": []
  }
 ],
 "metadata": {
  "kernelspec": {
   "display_name": "Python 3",
   "language": "python",
   "name": "python3"
  },
  "language_info": {
   "codemirror_mode": {
    "name": "ipython",
    "version": 3
   },
   "file_extension": ".py",
   "mimetype": "text/x-python",
   "name": "python",
   "nbconvert_exporter": "python",
   "pygments_lexer": "ipython3",
   "version": "3.7.3"
  }
 },
 "nbformat": 4,
 "nbformat_minor": 2
}
